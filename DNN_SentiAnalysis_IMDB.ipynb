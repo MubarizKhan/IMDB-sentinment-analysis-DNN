{
  "nbformat": 4,
  "nbformat_minor": 0,
  "metadata": {
    "colab": {
      "provenance": []
    },
    "kernelspec": {
      "name": "python3",
      "display_name": "Python 3"
    },
    "language_info": {
      "name": "python"
    }
  },
  "cells": [
    {
      "cell_type": "code",
      "metadata": {
        "id": "kIiQQ9Ki9yxc"
      },
      "source": [
        "from tensorflow.keras.models import Sequential\n",
        "from tensorflow.keras.layers import Dense \n",
        "import numpy as np\n",
        "import pandas as pd "
      ],
      "execution_count": null,
      "outputs": []
    },
    {
      "cell_type": "code",
      "metadata": {
        "colab": {
          "base_uri": "https://localhost:8080/"
        },
        "id": "FPTqqifNNFWE",
        "outputId": "48e35caf-3142-4be9-a5ac-4bf293226711"
      },
      "source": [
        "input = np.random.rand(10000,3)\n",
        "output = np.random.randint(2,size = 10000)\n",
        "print(output)\n",
        "corpus = pd.read_csv('/content/IMDB Dataset.csv', encoding = 'utf-8', engine = 'python', error_bad_lines=False)"
      ],
      "execution_count": null,
      "outputs": [
        {
          "output_type": "stream",
          "text": [
            "[1 1 1 ... 0 0 0]\n"
          ],
          "name": "stdout"
        },
        {
          "output_type": "stream",
          "text": [
            "Skipping line 1615: unexpected end of data\n"
          ],
          "name": "stderr"
        }
      ]
    },
    {
      "cell_type": "code",
      "metadata": {
        "id": "iT8qZ3PRyJP7"
      },
      "source": [
        "data = corpus.iloc[:,0]\n",
        "data_labels = corpus.iloc[:,1]"
      ],
      "execution_count": null,
      "outputs": []
    },
    {
      "cell_type": "code",
      "metadata": {
        "id": "EwOCa6zByJoM",
        "colab": {
          "base_uri": "https://localhost:8080/"
        },
        "outputId": "67651978-8bd9-42a4-deef-e256615b27bf"
      },
      "source": [
        "data"
      ],
      "execution_count": null,
      "outputs": [
        {
          "output_type": "execute_result",
          "data": {
            "text/plain": [
              "0       One of the other reviewers has mentioned that ...\n",
              "1       A wonderful little production. <br /><br />The...\n",
              "2       I thought this was a wonderful way to spend ti...\n",
              "3       Basically there's a family where a little boy ...\n",
              "4       Petter Mattei's \"Love in the Time of Money\" is...\n",
              "                              ...                        \n",
              "1608    If it weren't for the editing out of curse wor...\n",
              "1609    I have seen The Running Man several times as I...\n",
              "1610    A stuttering plot, uninteresting characters an...\n",
              "1611    Yes, this movie is a real thief. It stole some...\n",
              "1612    Whilst this is most definitely a well crafted ...\n",
              "Name: review, Length: 1613, dtype: object"
            ]
          },
          "metadata": {
            "tags": []
          },
          "execution_count": 162
        }
      ]
    },
    {
      "cell_type": "code",
      "metadata": {
        "id": "yqWCYPHAyJ6x",
        "colab": {
          "base_uri": "https://localhost:8080/"
        },
        "outputId": "e936d0f7-60f7-4a06-ec1e-5004777ac3e8"
      },
      "source": [
        "data_labels"
      ],
      "execution_count": null,
      "outputs": [
        {
          "output_type": "execute_result",
          "data": {
            "text/plain": [
              "0       positive\n",
              "1       positive\n",
              "2       positive\n",
              "3       negative\n",
              "4       positive\n",
              "          ...   \n",
              "1608    negative\n",
              "1609    positive\n",
              "1610    negative\n",
              "1611    negative\n",
              "1612    negative\n",
              "Name: sentiment, Length: 1613, dtype: object"
            ]
          },
          "metadata": {
            "tags": []
          },
          "execution_count": 163
        }
      ]
    },
    {
      "cell_type": "code",
      "metadata": {
        "colab": {
          "base_uri": "https://localhost:8080/"
        },
        "id": "HyglGED48Yb5",
        "outputId": "f8f1f091-cfaf-4214-c930-9f0c9fd7477b"
      },
      "source": [
        "from sklearn.feature_extraction.text import TfidfVectorizer\n",
        "tfidf = TfidfVectorizer(max_features= 200)\n",
        "matrix_x = tfidf.fit_transform(data)\n",
        "matrix_x\n"
      ],
      "execution_count": null,
      "outputs": [
        {
          "output_type": "execute_result",
          "data": {
            "text/plain": [
              "<1613x200 sparse matrix of type '<class 'numpy.float64'>'\n",
              "\twith 90150 stored elements in Compressed Sparse Row format>"
            ]
          },
          "metadata": {
            "tags": []
          },
          "execution_count": 250
        }
      ]
    },
    {
      "cell_type": "code",
      "metadata": {
        "colab": {
          "base_uri": "https://localhost:8080/"
        },
        "id": "jqeMVCnJ8Yx5",
        "outputId": "95b3a5ab-f611-4532-86a5-0ea93873a45f"
      },
      "source": [
        "matrix_x.toarray"
      ],
      "execution_count": null,
      "outputs": [
        {
          "output_type": "execute_result",
          "data": {
            "text/plain": [
              "<bound method _cs_matrix.toarray of <1613x200 sparse matrix of type '<class 'numpy.float64'>'\n",
              "\twith 90150 stored elements in Compressed Sparse Row format>>"
            ]
          },
          "metadata": {
            "tags": []
          },
          "execution_count": 251
        }
      ]
    },
    {
      "cell_type": "code",
      "metadata": {
        "colab": {
          "base_uri": "https://localhost:8080/"
        },
        "id": "gPMFGxh-8ZDP",
        "outputId": "e514bf4e-bf0a-4e29-f292-24c4eb2be930"
      },
      "source": [
        "set(data_labels)"
      ],
      "execution_count": null,
      "outputs": [
        {
          "output_type": "execute_result",
          "data": {
            "text/plain": [
              "{'negative', 'positive'}"
            ]
          },
          "metadata": {
            "tags": []
          },
          "execution_count": 252
        }
      ]
    },
    {
      "cell_type": "code",
      "metadata": {
        "colab": {
          "base_uri": "https://localhost:8080/"
        },
        "id": "LuIVw-gn99f3",
        "outputId": "cbc313e3-5252-4cf4-8360-fd7513b568e0"
      },
      "source": [
        "updated_labels = [0 if i =='negative' else 1 for i in data_labels ]\n",
        "set(updated_labels)"
      ],
      "execution_count": null,
      "outputs": [
        {
          "output_type": "execute_result",
          "data": {
            "text/plain": [
              "{0, 1}"
            ]
          },
          "metadata": {
            "tags": []
          },
          "execution_count": 253
        }
      ]
    },
    {
      "cell_type": "code",
      "metadata": {
        "id": "HZcXGQeE8ZYj"
      },
      "source": [
        "from sklearn.model_selection import train_test_split\n",
        "train_x, test_x, train_y, test_y = train_test_split(matrix_x, updated_labels, shuffle = True, train_size = 0.8)"
      ],
      "execution_count": null,
      "outputs": []
    },
    {
      "cell_type": "code",
      "metadata": {
        "colab": {
          "base_uri": "https://localhost:8080/"
        },
        "id": "Ah0PbiGx994u",
        "outputId": "80b6a862-0800-4c5e-c692-976038a7f66f"
      },
      "source": [
        "test_x.toarray()"
      ],
      "execution_count": null,
      "outputs": [
        {
          "output_type": "execute_result",
          "data": {
            "text/plain": [
              "array([[0.11663205, 0.07455579, 0.        , ..., 0.        , 0.        ,\n",
              "        0.        ],\n",
              "       [0.        , 0.        , 0.        , ..., 0.        , 0.        ,\n",
              "        0.        ],\n",
              "       [0.        , 0.08295792, 0.        , ..., 0.        , 0.        ,\n",
              "        0.        ],\n",
              "       ...,\n",
              "       [0.        , 0.03861089, 0.        , ..., 0.06423604, 0.        ,\n",
              "        0.        ],\n",
              "       [0.        , 0.15327156, 0.        , ..., 0.        , 0.        ,\n",
              "        0.        ],\n",
              "       [0.        , 0.        , 0.        , ..., 0.06572442, 0.        ,\n",
              "        0.        ]])"
            ]
          },
          "metadata": {
            "tags": []
          },
          "execution_count": 255
        }
      ]
    },
    {
      "cell_type": "code",
      "metadata": {
        "id": "bMMSkcVM-and"
      },
      "source": [
        "test_x, test_y"
      ],
      "execution_count": null,
      "outputs": []
    },
    {
      "cell_type": "code",
      "metadata": {
        "id": "0o4YkzEi-a9E"
      },
      "source": [
        "\n",
        "# train_x = train_x.toarray()\n",
        "# test_x = test_x.toarray()\n",
        "# \n",
        "# \n",
        "train_x = np.array(train_x)\n",
        "test_x = np.array(test_x)\n",
        "\n",
        "test_y = np.array(test_y)\n",
        "train_y = np.array(train_y)\n"
      ],
      "execution_count": null,
      "outputs": []
    },
    {
      "cell_type": "code",
      "metadata": {
        "id": "mlpKo4jtNd1R"
      },
      "source": [
        "model = Sequential()\n",
        "model.add(Dense(100, activation='relu', input_shape = (200, )))\n",
        "model.add(Dense(80, activation='relu'))\n",
        "model.add(Dense(50, activation='relu'))\n",
        "model.add(Dense(20, activation='relu'))\n",
        "# model.add(Dense(10, activation='sigmoid'))\n",
        "model.add(Dense(1, activation='sigmoid'))"
      ],
      "execution_count": null,
      "outputs": []
    },
    {
      "cell_type": "code",
      "metadata": {
        "colab": {
          "base_uri": "https://localhost:8080/"
        },
        "id": "ENmITXBaNeCT",
        "outputId": "98719840-ca35-46be-bf23-ca55b71fc62b"
      },
      "source": [
        "model.summary()"
      ],
      "execution_count": null,
      "outputs": [
        {
          "output_type": "stream",
          "text": [
            "Model: \"sequential_20\"\n",
            "_________________________________________________________________\n",
            "Layer (type)                 Output Shape              Param #   \n",
            "=================================================================\n",
            "dense_100 (Dense)            (None, 100)               20100     \n",
            "_________________________________________________________________\n",
            "dense_101 (Dense)            (None, 80)                8080      \n",
            "_________________________________________________________________\n",
            "dense_102 (Dense)            (None, 50)                4050      \n",
            "_________________________________________________________________\n",
            "dense_103 (Dense)            (None, 20)                1020      \n",
            "_________________________________________________________________\n",
            "dense_104 (Dense)            (None, 1)                 21        \n",
            "=================================================================\n",
            "Total params: 33,271\n",
            "Trainable params: 33,271\n",
            "Non-trainable params: 0\n",
            "_________________________________________________________________\n"
          ],
          "name": "stdout"
        }
      ]
    },
    {
      "cell_type": "code",
      "metadata": {
        "id": "iDsxt6gONeZ7"
      },
      "source": [
        "model.compile(loss='binary_crossentropy', optimizer='sgd', metrics=['accuracy'])"
      ],
      "execution_count": null,
      "outputs": []
    },
    {
      "cell_type": "code",
      "metadata": {
        "id": "twIpJQovO3uH",
        "colab": {
          "base_uri": "https://localhost:8080/"
        },
        "outputId": "46e436f9-a531-449c-fa9f-3086e27395bc"
      },
      "source": [
        "model.fit(train_x, train_y, epochs=200, batch_size=64, validation_data=(test_x, test_y))"
      ],
      "execution_count": null,
      "outputs": [
        {
          "output_type": "stream",
          "text": [
            "Epoch 1/200\n",
            "21/21 [==============================] - 0s 5ms/step - loss: 0.6924 - accuracy: 0.5310 - val_loss: 0.6925 - val_accuracy: 0.5294\n",
            "Epoch 2/200\n",
            "21/21 [==============================] - 0s 3ms/step - loss: 0.6923 - accuracy: 0.5271 - val_loss: 0.6924 - val_accuracy: 0.5263\n",
            "Epoch 3/200\n",
            "21/21 [==============================] - 0s 3ms/step - loss: 0.6923 - accuracy: 0.5372 - val_loss: 0.6922 - val_accuracy: 0.5232\n",
            "Epoch 4/200\n",
            "21/21 [==============================] - 0s 3ms/step - loss: 0.6922 - accuracy: 0.5264 - val_loss: 0.6921 - val_accuracy: 0.5387\n",
            "Epoch 5/200\n",
            "21/21 [==============================] - 0s 3ms/step - loss: 0.6921 - accuracy: 0.5310 - val_loss: 0.6919 - val_accuracy: 0.5387\n",
            "Epoch 6/200\n",
            "21/21 [==============================] - 0s 3ms/step - loss: 0.6920 - accuracy: 0.5341 - val_loss: 0.6920 - val_accuracy: 0.5294\n",
            "Epoch 7/200\n",
            "21/21 [==============================] - 0s 3ms/step - loss: 0.6919 - accuracy: 0.5333 - val_loss: 0.6917 - val_accuracy: 0.5387\n",
            "Epoch 8/200\n",
            "21/21 [==============================] - 0s 3ms/step - loss: 0.6918 - accuracy: 0.5318 - val_loss: 0.6917 - val_accuracy: 0.5387\n",
            "Epoch 9/200\n",
            "21/21 [==============================] - 0s 3ms/step - loss: 0.6917 - accuracy: 0.5372 - val_loss: 0.6917 - val_accuracy: 0.5418\n",
            "Epoch 10/200\n",
            "21/21 [==============================] - 0s 3ms/step - loss: 0.6917 - accuracy: 0.5388 - val_loss: 0.6918 - val_accuracy: 0.5387\n",
            "Epoch 11/200\n",
            "21/21 [==============================] - 0s 3ms/step - loss: 0.6916 - accuracy: 0.5465 - val_loss: 0.6916 - val_accuracy: 0.5325\n",
            "Epoch 12/200\n",
            "21/21 [==============================] - 0s 3ms/step - loss: 0.6915 - accuracy: 0.5395 - val_loss: 0.6916 - val_accuracy: 0.5387\n",
            "Epoch 13/200\n",
            "21/21 [==============================] - 0s 3ms/step - loss: 0.6914 - accuracy: 0.5434 - val_loss: 0.6917 - val_accuracy: 0.5573\n",
            "Epoch 14/200\n",
            "21/21 [==============================] - 0s 3ms/step - loss: 0.6913 - accuracy: 0.5628 - val_loss: 0.6915 - val_accuracy: 0.5418\n",
            "Epoch 15/200\n",
            "21/21 [==============================] - 0s 3ms/step - loss: 0.6912 - accuracy: 0.5605 - val_loss: 0.6915 - val_accuracy: 0.5418\n",
            "Epoch 16/200\n",
            "21/21 [==============================] - 0s 4ms/step - loss: 0.6911 - accuracy: 0.5566 - val_loss: 0.6912 - val_accuracy: 0.5294\n",
            "Epoch 17/200\n",
            "21/21 [==============================] - 0s 4ms/step - loss: 0.6910 - accuracy: 0.5574 - val_loss: 0.6911 - val_accuracy: 0.5294\n",
            "Epoch 18/200\n",
            "21/21 [==============================] - 0s 3ms/step - loss: 0.6909 - accuracy: 0.5674 - val_loss: 0.6910 - val_accuracy: 0.5387\n",
            "Epoch 19/200\n",
            "21/21 [==============================] - 0s 3ms/step - loss: 0.6908 - accuracy: 0.5558 - val_loss: 0.6908 - val_accuracy: 0.5387\n",
            "Epoch 20/200\n",
            "21/21 [==============================] - 0s 3ms/step - loss: 0.6907 - accuracy: 0.5612 - val_loss: 0.6910 - val_accuracy: 0.5480\n",
            "Epoch 21/200\n",
            "21/21 [==============================] - 0s 3ms/step - loss: 0.6906 - accuracy: 0.5698 - val_loss: 0.6908 - val_accuracy: 0.5511\n",
            "Epoch 22/200\n",
            "21/21 [==============================] - 0s 3ms/step - loss: 0.6905 - accuracy: 0.5558 - val_loss: 0.6906 - val_accuracy: 0.5511\n",
            "Epoch 23/200\n",
            "21/21 [==============================] - 0s 3ms/step - loss: 0.6904 - accuracy: 0.5636 - val_loss: 0.6906 - val_accuracy: 0.5480\n",
            "Epoch 24/200\n",
            "21/21 [==============================] - 0s 3ms/step - loss: 0.6903 - accuracy: 0.5659 - val_loss: 0.6904 - val_accuracy: 0.5480\n",
            "Epoch 25/200\n",
            "21/21 [==============================] - 0s 3ms/step - loss: 0.6902 - accuracy: 0.5729 - val_loss: 0.6901 - val_accuracy: 0.5511\n",
            "Epoch 26/200\n",
            "21/21 [==============================] - 0s 3ms/step - loss: 0.6901 - accuracy: 0.5729 - val_loss: 0.6900 - val_accuracy: 0.5542\n",
            "Epoch 27/200\n",
            "21/21 [==============================] - 0s 3ms/step - loss: 0.6900 - accuracy: 0.5721 - val_loss: 0.6898 - val_accuracy: 0.5480\n",
            "Epoch 28/200\n",
            "21/21 [==============================] - 0s 3ms/step - loss: 0.6898 - accuracy: 0.5744 - val_loss: 0.6898 - val_accuracy: 0.5573\n",
            "Epoch 29/200\n",
            "21/21 [==============================] - 0s 3ms/step - loss: 0.6897 - accuracy: 0.5736 - val_loss: 0.6897 - val_accuracy: 0.5635\n",
            "Epoch 30/200\n",
            "21/21 [==============================] - 0s 4ms/step - loss: 0.6896 - accuracy: 0.5760 - val_loss: 0.6894 - val_accuracy: 0.5604\n",
            "Epoch 31/200\n",
            "21/21 [==============================] - 0s 4ms/step - loss: 0.6894 - accuracy: 0.5659 - val_loss: 0.6895 - val_accuracy: 0.5511\n",
            "Epoch 32/200\n",
            "21/21 [==============================] - 0s 4ms/step - loss: 0.6893 - accuracy: 0.5744 - val_loss: 0.6898 - val_accuracy: 0.5635\n",
            "Epoch 33/200\n",
            "21/21 [==============================] - 0s 3ms/step - loss: 0.6891 - accuracy: 0.5915 - val_loss: 0.6896 - val_accuracy: 0.5635\n",
            "Epoch 34/200\n",
            "21/21 [==============================] - 0s 3ms/step - loss: 0.6890 - accuracy: 0.5884 - val_loss: 0.6893 - val_accuracy: 0.5666\n",
            "Epoch 35/200\n",
            "21/21 [==============================] - 0s 3ms/step - loss: 0.6889 - accuracy: 0.5876 - val_loss: 0.6891 - val_accuracy: 0.5604\n",
            "Epoch 36/200\n",
            "21/21 [==============================] - 0s 3ms/step - loss: 0.6887 - accuracy: 0.5806 - val_loss: 0.6891 - val_accuracy: 0.5480\n",
            "Epoch 37/200\n",
            "21/21 [==============================] - 0s 3ms/step - loss: 0.6886 - accuracy: 0.5876 - val_loss: 0.6888 - val_accuracy: 0.5697\n",
            "Epoch 38/200\n",
            "21/21 [==============================] - 0s 3ms/step - loss: 0.6884 - accuracy: 0.5891 - val_loss: 0.6887 - val_accuracy: 0.5604\n",
            "Epoch 39/200\n",
            "21/21 [==============================] - 0s 3ms/step - loss: 0.6883 - accuracy: 0.5891 - val_loss: 0.6887 - val_accuracy: 0.5666\n",
            "Epoch 40/200\n",
            "21/21 [==============================] - 0s 3ms/step - loss: 0.6881 - accuracy: 0.6047 - val_loss: 0.6883 - val_accuracy: 0.5728\n",
            "Epoch 41/200\n",
            "21/21 [==============================] - 0s 3ms/step - loss: 0.6879 - accuracy: 0.6016 - val_loss: 0.6880 - val_accuracy: 0.5789\n",
            "Epoch 42/200\n",
            "21/21 [==============================] - 0s 3ms/step - loss: 0.6877 - accuracy: 0.5946 - val_loss: 0.6878 - val_accuracy: 0.5789\n",
            "Epoch 43/200\n",
            "21/21 [==============================] - 0s 3ms/step - loss: 0.6876 - accuracy: 0.5953 - val_loss: 0.6877 - val_accuracy: 0.5759\n",
            "Epoch 44/200\n",
            "21/21 [==============================] - 0s 3ms/step - loss: 0.6874 - accuracy: 0.5946 - val_loss: 0.6878 - val_accuracy: 0.5789\n",
            "Epoch 45/200\n",
            "21/21 [==============================] - 0s 3ms/step - loss: 0.6872 - accuracy: 0.5946 - val_loss: 0.6872 - val_accuracy: 0.5851\n",
            "Epoch 46/200\n",
            "21/21 [==============================] - 0s 3ms/step - loss: 0.6870 - accuracy: 0.5961 - val_loss: 0.6870 - val_accuracy: 0.5882\n",
            "Epoch 47/200\n",
            "21/21 [==============================] - 0s 3ms/step - loss: 0.6869 - accuracy: 0.5953 - val_loss: 0.6872 - val_accuracy: 0.5882\n",
            "Epoch 48/200\n",
            "21/21 [==============================] - 0s 3ms/step - loss: 0.6866 - accuracy: 0.6062 - val_loss: 0.6870 - val_accuracy: 0.5913\n",
            "Epoch 49/200\n",
            "21/21 [==============================] - 0s 4ms/step - loss: 0.6864 - accuracy: 0.6194 - val_loss: 0.6868 - val_accuracy: 0.5913\n",
            "Epoch 50/200\n",
            "21/21 [==============================] - 0s 4ms/step - loss: 0.6862 - accuracy: 0.5946 - val_loss: 0.6867 - val_accuracy: 0.5789\n",
            "Epoch 51/200\n",
            "21/21 [==============================] - 0s 3ms/step - loss: 0.6860 - accuracy: 0.6186 - val_loss: 0.6861 - val_accuracy: 0.5944\n",
            "Epoch 52/200\n",
            "21/21 [==============================] - 0s 3ms/step - loss: 0.6858 - accuracy: 0.6031 - val_loss: 0.6864 - val_accuracy: 0.5882\n",
            "Epoch 53/200\n",
            "21/21 [==============================] - 0s 3ms/step - loss: 0.6856 - accuracy: 0.6178 - val_loss: 0.6862 - val_accuracy: 0.5975\n",
            "Epoch 54/200\n",
            "21/21 [==============================] - 0s 3ms/step - loss: 0.6853 - accuracy: 0.6155 - val_loss: 0.6860 - val_accuracy: 0.6006\n",
            "Epoch 55/200\n",
            "21/21 [==============================] - 0s 3ms/step - loss: 0.6851 - accuracy: 0.6248 - val_loss: 0.6858 - val_accuracy: 0.6037\n",
            "Epoch 56/200\n",
            "21/21 [==============================] - 0s 3ms/step - loss: 0.6849 - accuracy: 0.6217 - val_loss: 0.6862 - val_accuracy: 0.6285\n",
            "Epoch 57/200\n",
            "21/21 [==============================] - 0s 3ms/step - loss: 0.6847 - accuracy: 0.6326 - val_loss: 0.6857 - val_accuracy: 0.6316\n",
            "Epoch 58/200\n",
            "21/21 [==============================] - 0s 3ms/step - loss: 0.6844 - accuracy: 0.6302 - val_loss: 0.6851 - val_accuracy: 0.6130\n",
            "Epoch 59/200\n",
            "21/21 [==============================] - 0s 3ms/step - loss: 0.6842 - accuracy: 0.6295 - val_loss: 0.6851 - val_accuracy: 0.6316\n",
            "Epoch 60/200\n",
            "21/21 [==============================] - 0s 3ms/step - loss: 0.6839 - accuracy: 0.6372 - val_loss: 0.6847 - val_accuracy: 0.6254\n",
            "Epoch 61/200\n",
            "21/21 [==============================] - 0s 4ms/step - loss: 0.6836 - accuracy: 0.6372 - val_loss: 0.6840 - val_accuracy: 0.6347\n",
            "Epoch 62/200\n",
            "21/21 [==============================] - 0s 4ms/step - loss: 0.6835 - accuracy: 0.6186 - val_loss: 0.6834 - val_accuracy: 0.6099\n",
            "Epoch 63/200\n",
            "21/21 [==============================] - 0s 3ms/step - loss: 0.6832 - accuracy: 0.6147 - val_loss: 0.6835 - val_accuracy: 0.6471\n",
            "Epoch 64/200\n",
            "21/21 [==============================] - 0s 3ms/step - loss: 0.6829 - accuracy: 0.6248 - val_loss: 0.6838 - val_accuracy: 0.6440\n",
            "Epoch 65/200\n",
            "21/21 [==============================] - 0s 3ms/step - loss: 0.6825 - accuracy: 0.6450 - val_loss: 0.6831 - val_accuracy: 0.6471\n",
            "Epoch 66/200\n",
            "21/21 [==============================] - 0s 3ms/step - loss: 0.6823 - accuracy: 0.6287 - val_loss: 0.6831 - val_accuracy: 0.6440\n",
            "Epoch 67/200\n",
            "21/21 [==============================] - 0s 3ms/step - loss: 0.6820 - accuracy: 0.6326 - val_loss: 0.6826 - val_accuracy: 0.6471\n",
            "Epoch 68/200\n",
            "21/21 [==============================] - 0s 3ms/step - loss: 0.6816 - accuracy: 0.6333 - val_loss: 0.6821 - val_accuracy: 0.6502\n",
            "Epoch 69/200\n",
            "21/21 [==============================] - 0s 3ms/step - loss: 0.6813 - accuracy: 0.6318 - val_loss: 0.6820 - val_accuracy: 0.6563\n",
            "Epoch 70/200\n",
            "21/21 [==============================] - 0s 3ms/step - loss: 0.6810 - accuracy: 0.6426 - val_loss: 0.6815 - val_accuracy: 0.6625\n",
            "Epoch 71/200\n",
            "21/21 [==============================] - 0s 3ms/step - loss: 0.6806 - accuracy: 0.6395 - val_loss: 0.6812 - val_accuracy: 0.6625\n",
            "Epoch 72/200\n",
            "21/21 [==============================] - 0s 3ms/step - loss: 0.6803 - accuracy: 0.6395 - val_loss: 0.6806 - val_accuracy: 0.6563\n",
            "Epoch 73/200\n",
            "21/21 [==============================] - 0s 4ms/step - loss: 0.6799 - accuracy: 0.6357 - val_loss: 0.6805 - val_accuracy: 0.6656\n",
            "Epoch 74/200\n",
            "21/21 [==============================] - 0s 3ms/step - loss: 0.6795 - accuracy: 0.6481 - val_loss: 0.6802 - val_accuracy: 0.6687\n",
            "Epoch 75/200\n",
            "21/21 [==============================] - 0s 3ms/step - loss: 0.6791 - accuracy: 0.6473 - val_loss: 0.6796 - val_accuracy: 0.6594\n",
            "Epoch 76/200\n",
            "21/21 [==============================] - 0s 3ms/step - loss: 0.6787 - accuracy: 0.6395 - val_loss: 0.6792 - val_accuracy: 0.6594\n",
            "Epoch 77/200\n",
            "21/21 [==============================] - 0s 3ms/step - loss: 0.6783 - accuracy: 0.6481 - val_loss: 0.6792 - val_accuracy: 0.6811\n",
            "Epoch 78/200\n",
            "21/21 [==============================] - 0s 4ms/step - loss: 0.6778 - accuracy: 0.6465 - val_loss: 0.6790 - val_accuracy: 0.6656\n",
            "Epoch 79/200\n",
            "21/21 [==============================] - 0s 3ms/step - loss: 0.6773 - accuracy: 0.6481 - val_loss: 0.6790 - val_accuracy: 0.6625\n",
            "Epoch 80/200\n",
            "21/21 [==============================] - 0s 3ms/step - loss: 0.6768 - accuracy: 0.6550 - val_loss: 0.6780 - val_accuracy: 0.6842\n",
            "Epoch 81/200\n",
            "21/21 [==============================] - 0s 3ms/step - loss: 0.6763 - accuracy: 0.6566 - val_loss: 0.6771 - val_accuracy: 0.6594\n",
            "Epoch 82/200\n",
            "21/21 [==============================] - 0s 3ms/step - loss: 0.6760 - accuracy: 0.6535 - val_loss: 0.6766 - val_accuracy: 0.6594\n",
            "Epoch 83/200\n",
            "21/21 [==============================] - 0s 3ms/step - loss: 0.6753 - accuracy: 0.6558 - val_loss: 0.6756 - val_accuracy: 0.6533\n",
            "Epoch 84/200\n",
            "21/21 [==============================] - 0s 3ms/step - loss: 0.6748 - accuracy: 0.6512 - val_loss: 0.6754 - val_accuracy: 0.6625\n",
            "Epoch 85/200\n",
            "21/21 [==============================] - 0s 3ms/step - loss: 0.6741 - accuracy: 0.6550 - val_loss: 0.6740 - val_accuracy: 0.6533\n",
            "Epoch 86/200\n",
            "21/21 [==============================] - 0s 3ms/step - loss: 0.6737 - accuracy: 0.6535 - val_loss: 0.6748 - val_accuracy: 0.6749\n",
            "Epoch 87/200\n",
            "21/21 [==============================] - 0s 3ms/step - loss: 0.6729 - accuracy: 0.6643 - val_loss: 0.6739 - val_accuracy: 0.6780\n",
            "Epoch 88/200\n",
            "21/21 [==============================] - 0s 3ms/step - loss: 0.6722 - accuracy: 0.6550 - val_loss: 0.6732 - val_accuracy: 0.6780\n",
            "Epoch 89/200\n",
            "21/21 [==============================] - 0s 4ms/step - loss: 0.6715 - accuracy: 0.6597 - val_loss: 0.6731 - val_accuracy: 0.6811\n",
            "Epoch 90/200\n",
            "21/21 [==============================] - 0s 3ms/step - loss: 0.6708 - accuracy: 0.6620 - val_loss: 0.6735 - val_accuracy: 0.6749\n",
            "Epoch 91/200\n",
            "21/21 [==============================] - 0s 3ms/step - loss: 0.6703 - accuracy: 0.6705 - val_loss: 0.6711 - val_accuracy: 0.6811\n",
            "Epoch 92/200\n",
            "21/21 [==============================] - 0s 3ms/step - loss: 0.6695 - accuracy: 0.6682 - val_loss: 0.6713 - val_accuracy: 0.6873\n",
            "Epoch 93/200\n",
            "21/21 [==============================] - 0s 3ms/step - loss: 0.6685 - accuracy: 0.6667 - val_loss: 0.6708 - val_accuracy: 0.6904\n",
            "Epoch 94/200\n",
            "21/21 [==============================] - 0s 3ms/step - loss: 0.6678 - accuracy: 0.6744 - val_loss: 0.6696 - val_accuracy: 0.6904\n",
            "Epoch 95/200\n",
            "21/21 [==============================] - 0s 3ms/step - loss: 0.6671 - accuracy: 0.6682 - val_loss: 0.6693 - val_accuracy: 0.6904\n",
            "Epoch 96/200\n",
            "21/21 [==============================] - 0s 3ms/step - loss: 0.6662 - accuracy: 0.6729 - val_loss: 0.6681 - val_accuracy: 0.6997\n",
            "Epoch 97/200\n",
            "21/21 [==============================] - 0s 3ms/step - loss: 0.6655 - accuracy: 0.6760 - val_loss: 0.6670 - val_accuracy: 0.6904\n",
            "Epoch 98/200\n",
            "21/21 [==============================] - 0s 3ms/step - loss: 0.6644 - accuracy: 0.6760 - val_loss: 0.6669 - val_accuracy: 0.6966\n",
            "Epoch 99/200\n",
            "21/21 [==============================] - 0s 3ms/step - loss: 0.6636 - accuracy: 0.6752 - val_loss: 0.6654 - val_accuracy: 0.6935\n",
            "Epoch 100/200\n",
            "21/21 [==============================] - 0s 3ms/step - loss: 0.6627 - accuracy: 0.6682 - val_loss: 0.6647 - val_accuracy: 0.6997\n",
            "Epoch 101/200\n",
            "21/21 [==============================] - 0s 4ms/step - loss: 0.6618 - accuracy: 0.6752 - val_loss: 0.6643 - val_accuracy: 0.7090\n",
            "Epoch 102/200\n",
            "21/21 [==============================] - 0s 3ms/step - loss: 0.6607 - accuracy: 0.6837 - val_loss: 0.6637 - val_accuracy: 0.7059\n",
            "Epoch 103/200\n",
            "21/21 [==============================] - 0s 3ms/step - loss: 0.6598 - accuracy: 0.6814 - val_loss: 0.6633 - val_accuracy: 0.6935\n",
            "Epoch 104/200\n",
            "21/21 [==============================] - 0s 3ms/step - loss: 0.6588 - accuracy: 0.6783 - val_loss: 0.6621 - val_accuracy: 0.7090\n",
            "Epoch 105/200\n",
            "21/21 [==============================] - 0s 3ms/step - loss: 0.6577 - accuracy: 0.6868 - val_loss: 0.6608 - val_accuracy: 0.7121\n",
            "Epoch 106/200\n",
            "21/21 [==============================] - 0s 3ms/step - loss: 0.6566 - accuracy: 0.6837 - val_loss: 0.6591 - val_accuracy: 0.6935\n",
            "Epoch 107/200\n",
            "21/21 [==============================] - 0s 3ms/step - loss: 0.6555 - accuracy: 0.6868 - val_loss: 0.6581 - val_accuracy: 0.6997\n",
            "Epoch 108/200\n",
            "21/21 [==============================] - 0s 3ms/step - loss: 0.6544 - accuracy: 0.6837 - val_loss: 0.6552 - val_accuracy: 0.6873\n",
            "Epoch 109/200\n",
            "21/21 [==============================] - 0s 3ms/step - loss: 0.6534 - accuracy: 0.6876 - val_loss: 0.6552 - val_accuracy: 0.6997\n",
            "Epoch 110/200\n",
            "21/21 [==============================] - 0s 3ms/step - loss: 0.6518 - accuracy: 0.6860 - val_loss: 0.6545 - val_accuracy: 0.6997\n",
            "Epoch 111/200\n",
            "21/21 [==============================] - 0s 4ms/step - loss: 0.6504 - accuracy: 0.6860 - val_loss: 0.6567 - val_accuracy: 0.6966\n",
            "Epoch 112/200\n",
            "21/21 [==============================] - 0s 3ms/step - loss: 0.6495 - accuracy: 0.6853 - val_loss: 0.6523 - val_accuracy: 0.7059\n",
            "Epoch 113/200\n",
            "21/21 [==============================] - 0s 3ms/step - loss: 0.6475 - accuracy: 0.6884 - val_loss: 0.6532 - val_accuracy: 0.7152\n",
            "Epoch 114/200\n",
            "21/21 [==============================] - 0s 4ms/step - loss: 0.6464 - accuracy: 0.6860 - val_loss: 0.6497 - val_accuracy: 0.7059\n",
            "Epoch 115/200\n",
            "21/21 [==============================] - 0s 3ms/step - loss: 0.6449 - accuracy: 0.6884 - val_loss: 0.6495 - val_accuracy: 0.7183\n",
            "Epoch 116/200\n",
            "21/21 [==============================] - 0s 4ms/step - loss: 0.6433 - accuracy: 0.6953 - val_loss: 0.6452 - val_accuracy: 0.6966\n",
            "Epoch 117/200\n",
            "21/21 [==============================] - 0s 3ms/step - loss: 0.6415 - accuracy: 0.6969 - val_loss: 0.6458 - val_accuracy: 0.7183\n",
            "Epoch 118/200\n",
            "21/21 [==============================] - 0s 3ms/step - loss: 0.6403 - accuracy: 0.6922 - val_loss: 0.6442 - val_accuracy: 0.7152\n",
            "Epoch 119/200\n",
            "21/21 [==============================] - 0s 3ms/step - loss: 0.6386 - accuracy: 0.6938 - val_loss: 0.6427 - val_accuracy: 0.7152\n",
            "Epoch 120/200\n",
            "21/21 [==============================] - 0s 3ms/step - loss: 0.6366 - accuracy: 0.6946 - val_loss: 0.6406 - val_accuracy: 0.7090\n",
            "Epoch 121/200\n",
            "21/21 [==============================] - 0s 3ms/step - loss: 0.6351 - accuracy: 0.6969 - val_loss: 0.6373 - val_accuracy: 0.7121\n",
            "Epoch 122/200\n",
            "21/21 [==============================] - 0s 3ms/step - loss: 0.6334 - accuracy: 0.7039 - val_loss: 0.6366 - val_accuracy: 0.7183\n",
            "Epoch 123/200\n",
            "21/21 [==============================] - 0s 3ms/step - loss: 0.6314 - accuracy: 0.7000 - val_loss: 0.6358 - val_accuracy: 0.7183\n",
            "Epoch 124/200\n",
            "21/21 [==============================] - 0s 3ms/step - loss: 0.6290 - accuracy: 0.7047 - val_loss: 0.6335 - val_accuracy: 0.7183\n",
            "Epoch 125/200\n",
            "21/21 [==============================] - 0s 3ms/step - loss: 0.6274 - accuracy: 0.7000 - val_loss: 0.6302 - val_accuracy: 0.7276\n",
            "Epoch 126/200\n",
            "21/21 [==============================] - 0s 3ms/step - loss: 0.6251 - accuracy: 0.7062 - val_loss: 0.6287 - val_accuracy: 0.7214\n",
            "Epoch 127/200\n",
            "21/21 [==============================] - 0s 3ms/step - loss: 0.6229 - accuracy: 0.7031 - val_loss: 0.6282 - val_accuracy: 0.7307\n",
            "Epoch 128/200\n",
            "21/21 [==============================] - 0s 3ms/step - loss: 0.6201 - accuracy: 0.7062 - val_loss: 0.6235 - val_accuracy: 0.7245\n",
            "Epoch 129/200\n",
            "21/21 [==============================] - 0s 4ms/step - loss: 0.6181 - accuracy: 0.7085 - val_loss: 0.6256 - val_accuracy: 0.7245\n",
            "Epoch 130/200\n",
            "21/21 [==============================] - 0s 3ms/step - loss: 0.6157 - accuracy: 0.7124 - val_loss: 0.6206 - val_accuracy: 0.7276\n",
            "Epoch 131/200\n",
            "21/21 [==============================] - 0s 3ms/step - loss: 0.6133 - accuracy: 0.7078 - val_loss: 0.6187 - val_accuracy: 0.7245\n",
            "Epoch 132/200\n",
            "21/21 [==============================] - 0s 3ms/step - loss: 0.6103 - accuracy: 0.7124 - val_loss: 0.6146 - val_accuracy: 0.7245\n",
            "Epoch 133/200\n",
            "21/21 [==============================] - 0s 3ms/step - loss: 0.6081 - accuracy: 0.7116 - val_loss: 0.6182 - val_accuracy: 0.7183\n",
            "Epoch 134/200\n",
            "21/21 [==============================] - 0s 3ms/step - loss: 0.6056 - accuracy: 0.7194 - val_loss: 0.6117 - val_accuracy: 0.7276\n",
            "Epoch 135/200\n",
            "21/21 [==============================] - 0s 3ms/step - loss: 0.6024 - accuracy: 0.7132 - val_loss: 0.6084 - val_accuracy: 0.7399\n",
            "Epoch 136/200\n",
            "21/21 [==============================] - 0s 3ms/step - loss: 0.6003 - accuracy: 0.7155 - val_loss: 0.6067 - val_accuracy: 0.7337\n",
            "Epoch 137/200\n",
            "21/21 [==============================] - 0s 3ms/step - loss: 0.5965 - accuracy: 0.7178 - val_loss: 0.6039 - val_accuracy: 0.7430\n",
            "Epoch 138/200\n",
            "21/21 [==============================] - 0s 4ms/step - loss: 0.5941 - accuracy: 0.7217 - val_loss: 0.6003 - val_accuracy: 0.7399\n",
            "Epoch 139/200\n",
            "21/21 [==============================] - 0s 3ms/step - loss: 0.5908 - accuracy: 0.7155 - val_loss: 0.5981 - val_accuracy: 0.7399\n",
            "Epoch 140/200\n",
            "21/21 [==============================] - 0s 3ms/step - loss: 0.5876 - accuracy: 0.7287 - val_loss: 0.5945 - val_accuracy: 0.7492\n",
            "Epoch 141/200\n",
            "21/21 [==============================] - 0s 4ms/step - loss: 0.5852 - accuracy: 0.7209 - val_loss: 0.5916 - val_accuracy: 0.7492\n",
            "Epoch 142/200\n",
            "21/21 [==============================] - 0s 3ms/step - loss: 0.5821 - accuracy: 0.7310 - val_loss: 0.5885 - val_accuracy: 0.7461\n",
            "Epoch 143/200\n",
            "21/21 [==============================] - 0s 4ms/step - loss: 0.5786 - accuracy: 0.7333 - val_loss: 0.5862 - val_accuracy: 0.7430\n",
            "Epoch 144/200\n",
            "21/21 [==============================] - 0s 4ms/step - loss: 0.5763 - accuracy: 0.7271 - val_loss: 0.5839 - val_accuracy: 0.7461\n",
            "Epoch 145/200\n",
            "21/21 [==============================] - 0s 3ms/step - loss: 0.5716 - accuracy: 0.7302 - val_loss: 0.5800 - val_accuracy: 0.7492\n",
            "Epoch 146/200\n",
            "21/21 [==============================] - 0s 3ms/step - loss: 0.5684 - accuracy: 0.7310 - val_loss: 0.5820 - val_accuracy: 0.7307\n",
            "Epoch 147/200\n",
            "21/21 [==============================] - 0s 3ms/step - loss: 0.5658 - accuracy: 0.7349 - val_loss: 0.5745 - val_accuracy: 0.7554\n",
            "Epoch 148/200\n",
            "21/21 [==============================] - 0s 3ms/step - loss: 0.5616 - accuracy: 0.7380 - val_loss: 0.5715 - val_accuracy: 0.7616\n",
            "Epoch 149/200\n",
            "21/21 [==============================] - 0s 3ms/step - loss: 0.5579 - accuracy: 0.7419 - val_loss: 0.5896 - val_accuracy: 0.7059\n",
            "Epoch 150/200\n",
            "21/21 [==============================] - 0s 3ms/step - loss: 0.5556 - accuracy: 0.7380 - val_loss: 0.5678 - val_accuracy: 0.7523\n",
            "Epoch 151/200\n",
            "21/21 [==============================] - 0s 3ms/step - loss: 0.5515 - accuracy: 0.7496 - val_loss: 0.5627 - val_accuracy: 0.7616\n",
            "Epoch 152/200\n",
            "21/21 [==============================] - 0s 4ms/step - loss: 0.5472 - accuracy: 0.7411 - val_loss: 0.5601 - val_accuracy: 0.7585\n",
            "Epoch 153/200\n",
            "21/21 [==============================] - 0s 3ms/step - loss: 0.5445 - accuracy: 0.7465 - val_loss: 0.5601 - val_accuracy: 0.7368\n",
            "Epoch 154/200\n",
            "21/21 [==============================] - 0s 3ms/step - loss: 0.5404 - accuracy: 0.7504 - val_loss: 0.5547 - val_accuracy: 0.7585\n",
            "Epoch 155/200\n",
            "21/21 [==============================] - 0s 3ms/step - loss: 0.5377 - accuracy: 0.7589 - val_loss: 0.5632 - val_accuracy: 0.7368\n",
            "Epoch 156/200\n",
            "21/21 [==============================] - 0s 3ms/step - loss: 0.5332 - accuracy: 0.7496 - val_loss: 0.5485 - val_accuracy: 0.7616\n",
            "Epoch 157/200\n",
            "21/21 [==============================] - 0s 3ms/step - loss: 0.5284 - accuracy: 0.7566 - val_loss: 0.5465 - val_accuracy: 0.7554\n",
            "Epoch 158/200\n",
            "21/21 [==============================] - 0s 4ms/step - loss: 0.5256 - accuracy: 0.7543 - val_loss: 0.5459 - val_accuracy: 0.7461\n",
            "Epoch 159/200\n",
            "21/21 [==============================] - 0s 3ms/step - loss: 0.5225 - accuracy: 0.7581 - val_loss: 0.5511 - val_accuracy: 0.7461\n",
            "Epoch 160/200\n",
            "21/21 [==============================] - 0s 4ms/step - loss: 0.5179 - accuracy: 0.7628 - val_loss: 0.5521 - val_accuracy: 0.7430\n",
            "Epoch 161/200\n",
            "21/21 [==============================] - 0s 3ms/step - loss: 0.5154 - accuracy: 0.7667 - val_loss: 0.5381 - val_accuracy: 0.7585\n",
            "Epoch 162/200\n",
            "21/21 [==============================] - 0s 4ms/step - loss: 0.5102 - accuracy: 0.7651 - val_loss: 0.5333 - val_accuracy: 0.7616\n",
            "Epoch 163/200\n",
            "21/21 [==============================] - 0s 3ms/step - loss: 0.5088 - accuracy: 0.7636 - val_loss: 0.5327 - val_accuracy: 0.7554\n",
            "Epoch 164/200\n",
            "21/21 [==============================] - 0s 3ms/step - loss: 0.5064 - accuracy: 0.7698 - val_loss: 0.5278 - val_accuracy: 0.7616\n",
            "Epoch 165/200\n",
            "21/21 [==============================] - 0s 3ms/step - loss: 0.5001 - accuracy: 0.7729 - val_loss: 0.5348 - val_accuracy: 0.7709\n",
            "Epoch 166/200\n",
            "21/21 [==============================] - 0s 3ms/step - loss: 0.4983 - accuracy: 0.7698 - val_loss: 0.5242 - val_accuracy: 0.7616\n",
            "Epoch 167/200\n",
            "21/21 [==============================] - 0s 3ms/step - loss: 0.4945 - accuracy: 0.7729 - val_loss: 0.5243 - val_accuracy: 0.7647\n",
            "Epoch 168/200\n",
            "21/21 [==============================] - 0s 3ms/step - loss: 0.4920 - accuracy: 0.7744 - val_loss: 0.5199 - val_accuracy: 0.7647\n",
            "Epoch 169/200\n",
            "21/21 [==============================] - 0s 3ms/step - loss: 0.4874 - accuracy: 0.7798 - val_loss: 0.5292 - val_accuracy: 0.7616\n",
            "Epoch 170/200\n",
            "21/21 [==============================] - 0s 3ms/step - loss: 0.4866 - accuracy: 0.7760 - val_loss: 0.5149 - val_accuracy: 0.7709\n",
            "Epoch 171/200\n",
            "21/21 [==============================] - 0s 3ms/step - loss: 0.4819 - accuracy: 0.7783 - val_loss: 0.5151 - val_accuracy: 0.7771\n",
            "Epoch 172/200\n",
            "21/21 [==============================] - 0s 3ms/step - loss: 0.4799 - accuracy: 0.7829 - val_loss: 0.5217 - val_accuracy: 0.7616\n",
            "Epoch 173/200\n",
            "21/21 [==============================] - 0s 3ms/step - loss: 0.4760 - accuracy: 0.7806 - val_loss: 0.5086 - val_accuracy: 0.7709\n",
            "Epoch 174/200\n",
            "21/21 [==============================] - 0s 3ms/step - loss: 0.4743 - accuracy: 0.7860 - val_loss: 0.5072 - val_accuracy: 0.7771\n",
            "Epoch 175/200\n",
            "21/21 [==============================] - 0s 3ms/step - loss: 0.4714 - accuracy: 0.7899 - val_loss: 0.5081 - val_accuracy: 0.7740\n",
            "Epoch 176/200\n",
            "21/21 [==============================] - 0s 3ms/step - loss: 0.4675 - accuracy: 0.7845 - val_loss: 0.5048 - val_accuracy: 0.7740\n",
            "Epoch 177/200\n",
            "21/21 [==============================] - 0s 3ms/step - loss: 0.4657 - accuracy: 0.7829 - val_loss: 0.5189 - val_accuracy: 0.7678\n",
            "Epoch 178/200\n",
            "21/21 [==============================] - 0s 3ms/step - loss: 0.4630 - accuracy: 0.7891 - val_loss: 0.5190 - val_accuracy: 0.7678\n",
            "Epoch 179/200\n",
            "21/21 [==============================] - 0s 3ms/step - loss: 0.4642 - accuracy: 0.7829 - val_loss: 0.4990 - val_accuracy: 0.7771\n",
            "Epoch 180/200\n",
            "21/21 [==============================] - 0s 3ms/step - loss: 0.4560 - accuracy: 0.7946 - val_loss: 0.4983 - val_accuracy: 0.7771\n",
            "Epoch 181/200\n",
            "21/21 [==============================] - 0s 3ms/step - loss: 0.4547 - accuracy: 0.7891 - val_loss: 0.4968 - val_accuracy: 0.7771\n",
            "Epoch 182/200\n",
            "21/21 [==============================] - 0s 4ms/step - loss: 0.4517 - accuracy: 0.7977 - val_loss: 0.5319 - val_accuracy: 0.7554\n",
            "Epoch 183/200\n",
            "21/21 [==============================] - 0s 3ms/step - loss: 0.4531 - accuracy: 0.7907 - val_loss: 0.5383 - val_accuracy: 0.7121\n",
            "Epoch 184/200\n",
            "21/21 [==============================] - 0s 3ms/step - loss: 0.4467 - accuracy: 0.7992 - val_loss: 0.5302 - val_accuracy: 0.7307\n",
            "Epoch 185/200\n",
            "21/21 [==============================] - 0s 3ms/step - loss: 0.4451 - accuracy: 0.7953 - val_loss: 0.5043 - val_accuracy: 0.7771\n",
            "Epoch 186/200\n",
            "21/21 [==============================] - 0s 3ms/step - loss: 0.4433 - accuracy: 0.8008 - val_loss: 0.4912 - val_accuracy: 0.7833\n",
            "Epoch 187/200\n",
            "21/21 [==============================] - 0s 3ms/step - loss: 0.4451 - accuracy: 0.7930 - val_loss: 0.4903 - val_accuracy: 0.7802\n",
            "Epoch 188/200\n",
            "21/21 [==============================] - 0s 3ms/step - loss: 0.4378 - accuracy: 0.7938 - val_loss: 0.5065 - val_accuracy: 0.7523\n",
            "Epoch 189/200\n",
            "21/21 [==============================] - 0s 3ms/step - loss: 0.4367 - accuracy: 0.7992 - val_loss: 0.4934 - val_accuracy: 0.7585\n",
            "Epoch 190/200\n",
            "21/21 [==============================] - 0s 3ms/step - loss: 0.4340 - accuracy: 0.7992 - val_loss: 0.4876 - val_accuracy: 0.7833\n",
            "Epoch 191/200\n",
            "21/21 [==============================] - 0s 3ms/step - loss: 0.4303 - accuracy: 0.8047 - val_loss: 0.5189 - val_accuracy: 0.7461\n",
            "Epoch 192/200\n",
            "21/21 [==============================] - 0s 3ms/step - loss: 0.4327 - accuracy: 0.8062 - val_loss: 0.4870 - val_accuracy: 0.7926\n",
            "Epoch 193/200\n",
            "21/21 [==============================] - 0s 3ms/step - loss: 0.4265 - accuracy: 0.8109 - val_loss: 0.4879 - val_accuracy: 0.7864\n",
            "Epoch 194/200\n",
            "21/21 [==============================] - 0s 3ms/step - loss: 0.4268 - accuracy: 0.8116 - val_loss: 0.5382 - val_accuracy: 0.7399\n",
            "Epoch 195/200\n",
            "21/21 [==============================] - 0s 3ms/step - loss: 0.4320 - accuracy: 0.8016 - val_loss: 0.6115 - val_accuracy: 0.6873\n",
            "Epoch 196/200\n",
            "21/21 [==============================] - 0s 3ms/step - loss: 0.4366 - accuracy: 0.7984 - val_loss: 0.4864 - val_accuracy: 0.7957\n",
            "Epoch 197/200\n",
            "21/21 [==============================] - 0s 3ms/step - loss: 0.4211 - accuracy: 0.8085 - val_loss: 0.4892 - val_accuracy: 0.7802\n",
            "Epoch 198/200\n",
            "21/21 [==============================] - 0s 3ms/step - loss: 0.4207 - accuracy: 0.8078 - val_loss: 0.4967 - val_accuracy: 0.7771\n",
            "Epoch 199/200\n",
            "21/21 [==============================] - 0s 3ms/step - loss: 0.4217 - accuracy: 0.8078 - val_loss: 0.4910 - val_accuracy: 0.7678\n",
            "Epoch 200/200\n",
            "21/21 [==============================] - 0s 4ms/step - loss: 0.4157 - accuracy: 0.8109 - val_loss: 0.5272 - val_accuracy: 0.7554\n"
          ],
          "name": "stdout"
        },
        {
          "output_type": "execute_result",
          "data": {
            "text/plain": [
              "<tensorflow.python.keras.callbacks.History at 0x7f64f86ee110>"
            ]
          },
          "metadata": {
            "tags": []
          },
          "execution_count": 275
        }
      ]
    },
    {
      "cell_type": "code",
      "metadata": {
        "colab": {
          "base_uri": "https://localhost:8080/"
        },
        "id": "e1kkRUAs_FaH",
        "outputId": "d10db66c-128e-4122-fc49-b2f27d9ff285"
      },
      "source": [
        "model.evaluate(test_x,test_y)"
      ],
      "execution_count": null,
      "outputs": [
        {
          "output_type": "stream",
          "text": [
            "11/11 [==============================] - 0s 1ms/step - loss: 0.5272 - accuracy: 0.7554\n"
          ],
          "name": "stdout"
        },
        {
          "output_type": "execute_result",
          "data": {
            "text/plain": [
              "[0.5271823406219482, 0.7554179430007935]"
            ]
          },
          "metadata": {
            "tags": []
          },
          "execution_count": 276
        }
      ]
    },
    {
      "cell_type": "code",
      "metadata": {
        "colab": {
          "base_uri": "https://localhost:8080/"
        },
        "id": "n2zTQldSCP2f",
        "outputId": "ae2fbe44-dab5-4a4e-e34f-0aceeda943d5"
      },
      "source": [
        "model.predict(test_x[:10])"
      ],
      "execution_count": null,
      "outputs": [
        {
          "output_type": "execute_result",
          "data": {
            "text/plain": [
              "array([[0.6524797 ],\n",
              "       [0.5146572 ],\n",
              "       [0.74761295],\n",
              "       [0.96063167],\n",
              "       [0.9073896 ],\n",
              "       [0.92752486],\n",
              "       [0.7703819 ],\n",
              "       [0.8307723 ],\n",
              "       [0.33137235],\n",
              "       [0.39888966]], dtype=float32)"
            ]
          },
          "metadata": {
            "tags": []
          },
          "execution_count": 277
        }
      ]
    },
    {
      "cell_type": "code",
      "metadata": {
        "colab": {
          "base_uri": "https://localhost:8080/"
        },
        "id": "p4bQgB-LCTQM",
        "outputId": "f9e70053-a57f-4c41-9410-210efcd79e7e"
      },
      "source": [
        "pred_y = model.predict_classes(test_x)"
      ],
      "execution_count": null,
      "outputs": [
        {
          "output_type": "stream",
          "text": [
            "/usr/local/lib/python3.7/dist-packages/tensorflow/python/keras/engine/sequential.py:455: UserWarning: `model.predict_classes()` is deprecated and will be removed after 2021-01-01. Please use instead:* `np.argmax(model.predict(x), axis=-1)`,   if your model does multi-class classification   (e.g. if it uses a `softmax` last-layer activation).* `(model.predict(x) > 0.5).astype(\"int32\")`,   if your model does binary classification   (e.g. if it uses a `sigmoid` last-layer activation).\n",
            "  warnings.warn('`model.predict_classes()` is deprecated and '\n"
          ],
          "name": "stderr"
        }
      ]
    },
    {
      "cell_type": "code",
      "metadata": {
        "id": "HIhS1UxRCXJp"
      },
      "source": [
        "from sklearn.metrics import precision_score, recall_score, f1_score\n",
        "prec = precision_score(pred_y, test_y, average = 'macro')\n",
        "rec = recall_score(pred_y, test_y, average = 'macro')\n",
        "f1 = f1_score(pred_y, test_y, average = 'macro')"
      ],
      "execution_count": null,
      "outputs": []
    },
    {
      "cell_type": "code",
      "metadata": {
        "colab": {
          "base_uri": "https://localhost:8080/"
        },
        "id": "dI1-o1DsCaJX",
        "outputId": "72a91da0-64d7-496e-f68f-4a6d27ccef16"
      },
      "source": [
        "prec, rec, f1"
      ],
      "execution_count": null,
      "outputs": [
        {
          "output_type": "execute_result",
          "data": {
            "text/plain": [
              "(0.7396992888064317, 0.7812471655328799, 0.7402717695557026)"
            ]
          },
          "metadata": {
            "tags": []
          },
          "execution_count": 280
        }
      ]
    },
    {
      "cell_type": "code",
      "metadata": {
        "id": "Ek3-Z5MJCdO0"
      },
      "source": [],
      "execution_count": null,
      "outputs": []
    }
  ]
}